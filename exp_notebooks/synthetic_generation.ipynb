{
 "cells": [
  {
   "cell_type": "code",
   "execution_count": 1,
   "id": "d3caadd8-45b6-4ff5-8e72-166a73a18d6d",
   "metadata": {},
   "outputs": [],
   "source": [
    "import sys\n",
    "import os\n",
    "sys.path.append(os.path.abspath('..'))"
   ]
  },
  {
   "cell_type": "code",
   "execution_count": 2,
   "id": "4f156cc3-a55c-4c37-b43a-ef4eeb2893ff",
   "metadata": {},
   "outputs": [],
   "source": [
    "import numpy as np\n",
    "from utils.tools import count_parameters\n",
    "from data_code.synthetic_data import generate_hmm_data"
   ]
  },
  {
   "cell_type": "markdown",
   "id": "fb351e70-9cc6-4db2-aac1-bfe82c957151",
   "metadata": {},
   "source": [
    "# 2 States Synthetic Data"
   ]
  },
  {
   "cell_type": "code",
   "execution_count": 3,
   "id": "c6c28af2-c149-4ad1-a646-0a047ca9abef",
   "metadata": {},
   "outputs": [],
   "source": [
    "T = 100008\n",
    "D = 1\n",
    "num_states = 2\n",
    "startprob = np.array([1/num_states for i in range(num_states)])  # initial state probabilities\n",
    "\n",
    "######################################################################################################################\n",
    "transition_probs = np.array([[0.95333257, 0.04666743],\n",
    "                             [0.04280431, 0.95719569]])\n",
    "\n",
    "# Define t-distribution parameters\n",
    "# (df, loc, scale)\n",
    "t_params = [\n",
    "    {'df': 2.203769412911459, 'loc': np.full(D, 3.9434742040967025e-05), 'shape': np.eye(D) * 0.00014152029205811713**2},\n",
    "    {'df': 2.0041048392300143, 'loc': np.full(D, -4.094979144153923e-05), 'shape': np.eye(D) * 0.00014779641770930747**2}\n",
    "]\n",
    "\n",
    "S, X = generate_hmm_data(T=T, \n",
    "                         D=D, \n",
    "                         num_states=num_states, \n",
    "                         startprob=startprob,\n",
    "                         transition_probs=transition_probs,\n",
    "                         emission_dist='t',\n",
    "                         hmm_params=t_params,\n",
    "                         clip_factor=10.0,\n",
    "                         save_path='2013-2018_2states')\n",
    "\n",
    "\n",
    "#####################################################################################################################\n",
    "transition_probs = np.array([[0.91891272, 0.08108728],\n",
    "                             [0.07948942, 0.92051058]])\n",
    "\n",
    "# Define t-distribution parameters\n",
    "# (df, loc, scale)\n",
    "t_params = [\n",
    "    {'df': 3.375508222871087, 'loc': np.full(D, 0.0001375326265719756), 'shape': np.eye(D) * 0.0003514804713277813**2},\n",
    "    {'df': 2.041622349313363, 'loc': np.full(D, -0.00013850131698367596), 'shape': np.eye(D) * 0.0003189766674040665**2}\n",
    "]\n",
    "\n",
    "S, X = generate_hmm_data(T=T, \n",
    "                         D=D, \n",
    "                         num_states=num_states, \n",
    "                         startprob=startprob,\n",
    "                         transition_probs=transition_probs,\n",
    "                         emission_dist='t',\n",
    "                         hmm_params=t_params,\n",
    "                         clip_factor=10.0,\n",
    "                         save_path='2020_2states')"
   ]
  },
  {
   "cell_type": "markdown",
   "id": "302812de-1b0c-4b49-9c67-7d5c7057fe21",
   "metadata": {},
   "source": [
    "# 3 States Synthetic Data"
   ]
  },
  {
   "cell_type": "code",
   "execution_count": 4,
   "id": "a1b51b99-f848-47a6-ab85-92b7d526bb13",
   "metadata": {},
   "outputs": [],
   "source": [
    "num_states = 3\n",
    "startprob = np.array([1/num_states for i in range(num_states)])  # initial state probabilities\n",
    "\n",
    "######################################################################################################################\n",
    "transition_probs = np.array([[9.23817772e-01, 7.55921848e-02, 5.90043492e-04],\n",
    "                             [2.16883730e-02, 9.55449086e-01, 2.28625413e-02],\n",
    "                             [6.39145800e-04, 7.76750132e-02, 9.21685841e-01]])\n",
    "\n",
    "# Define t-distribution parameters\n",
    "# (df, loc, scale)\n",
    "t_params = [\n",
    "    {'df': 2.0760993864805846, 'loc': np.full(D, 0.0001029674007264275), 'shape': np.eye(D) * 0.0002111857892194446**2},\n",
    "    {'df': 2.8536543105854744, 'loc': np.full(D, 2.4408138881099127e-06), 'shape': np.eye(D) * 0.00012084877687819205**2},\n",
    "    {'df': 2.031470562987038, 'loc': np.full(D, -0.0001120995097448659), 'shape': np.eye(D) * 0.0002225739963582425**2},\n",
    "]\n",
    "\n",
    "S, X = generate_hmm_data(T=T, \n",
    "                         D=D, \n",
    "                         num_states=num_states, \n",
    "                         startprob=startprob,\n",
    "                         transition_probs=transition_probs,\n",
    "                         emission_dist='t',\n",
    "                         hmm_params=t_params,\n",
    "                         clip_factor=10.0,\n",
    "                         save_path='2013-2018_3states')"
   ]
  },
  {
   "cell_type": "markdown",
   "id": "b8f28cc1-917e-421c-a4a6-59080ab4e033",
   "metadata": {},
   "source": [
    "# Loading"
   ]
  },
  {
   "cell_type": "code",
   "execution_count": 6,
   "id": "8cd56494-da23-4a1c-b72c-1f857f4d9cef",
   "metadata": {},
   "outputs": [
    {
     "name": "stdout",
     "output_type": "stream",
     "text": [
      "(100008,)\n",
      "(100008, 1)\n"
     ]
    }
   ],
   "source": [
    "# loading\n",
    "emission_dist = 't'\n",
    "save_path = '2020_2states'\n",
    "folder_path = f\"../data/synthetic/{emission_dist}-hmm/{save_path}\"\n",
    "s_filename = f\"{folder_path}/S_data.npy\"\n",
    "x_filename = f\"{folder_path}/X_data.npy\"\n",
    "S = np.load(s_filename)\n",
    "X = np.load(x_filename)\n",
    "\n",
    "print(S.shape)\n",
    "print(X.shape)"
   ]
  },
  {
   "cell_type": "code",
   "execution_count": null,
   "id": "c6a5445c-a446-4130-921d-09bea81f6032",
   "metadata": {},
   "outputs": [],
   "source": []
  }
 ],
 "metadata": {
  "kernelspec": {
   "display_name": "Python 3 (ipykernel)",
   "language": "python",
   "name": "python3"
  },
  "language_info": {
   "codemirror_mode": {
    "name": "ipython",
    "version": 3
   },
   "file_extension": ".py",
   "mimetype": "text/x-python",
   "name": "python",
   "nbconvert_exporter": "python",
   "pygments_lexer": "ipython3",
   "version": "3.8.10"
  }
 },
 "nbformat": 4,
 "nbformat_minor": 5
}
