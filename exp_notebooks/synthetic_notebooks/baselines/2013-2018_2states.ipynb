{
 "cells": [
  {
   "cell_type": "code",
   "execution_count": 1,
   "id": "e3451437-c4dc-4674-a3c7-8933b5c3e126",
   "metadata": {},
   "outputs": [],
   "source": [
    "import sys\n",
    "import os\n",
    "project_path = '../../..'\n",
    "sys.path.append(os.path.abspath(project_path))"
   ]
  },
  {
   "cell_type": "code",
   "execution_count": 2,
   "id": "3315bc6e-1c33-4930-b904-f59dcbba626a",
   "metadata": {},
   "outputs": [],
   "source": [
    "from matplotlib import pyplot as plt\n",
    "import numpy as np"
   ]
  },
  {
   "cell_type": "markdown",
   "id": "2e48b5ad-8504-4251-a171-4d630570f16e",
   "metadata": {},
   "source": [
    "# Load Synthetic Data"
   ]
  },
  {
   "cell_type": "code",
   "execution_count": 3,
   "id": "847a0f54-8652-4c1c-96a3-b955fdcf0d56",
   "metadata": {},
   "outputs": [],
   "source": [
    "num_states = 2\n",
    "emission_dist = 't'\n",
    "save_path = '2013-2018_2states'\n",
    "folder_path = f\"{project_path}/data/synthetic/{emission_dist}-hmm/{save_path}\"\n",
    "s_filename = f\"{folder_path}/S_data.npy\"\n",
    "x_filename = f\"{folder_path}/X_data.npy\"\n",
    "S = np.load(s_filename)\n",
    "X = np.load(x_filename)"
   ]
  },
  {
   "cell_type": "code",
   "execution_count": 4,
   "id": "4243850d-5831-4857-bd1a-e76517db8a94",
   "metadata": {},
   "outputs": [],
   "source": [
    "from data_code.dataloader import create_dataloaders, create_datasets\n",
    "\n",
    "window_size = 390\n",
    "batch_size = 32\n",
    "\n",
    "train_loader, val_loader, test_loader = create_dataloaders(\n",
    "    X, S, window_size=window_size, train_ratio=0.6, val_ratio=0.2, batch_size=batch_size, standardize=True, feature_engineer=True\n",
    ")"
   ]
  },
  {
   "cell_type": "markdown",
   "id": "2024a38e-f00a-4bbb-8b76-2270cfb68991",
   "metadata": {},
   "source": [
    "# Search the Best Hyper-parameter for Jump Model"
   ]
  },
  {
   "cell_type": "code",
   "execution_count": 5,
   "id": "1bfa0c29-8411-449d-be6f-fe8e8f9ee8e2",
   "metadata": {},
   "outputs": [
    {
     "name": "stderr",
     "output_type": "stream",
     "text": [
      "[I 2025-03-24 09:40:55,690] A new study created in memory with name: no-name-426a408a-cc25-4147-93eb-da82970b1ee3\n",
      "[I 2025-03-24 09:41:35,511] Trial 0 finished with value: 0.534482902940135 and parameters: {'jump_penalty': 0.0031622776601683794}. Best is trial 0 with value: 0.534482902940135.\n",
      "[I 2025-03-24 09:42:15,467] Trial 1 finished with value: 0.5344158873645342 and parameters: {'jump_penalty': 1.0}. Best is trial 0 with value: 0.534482902940135.\n",
      "[I 2025-03-24 09:42:54,870] Trial 2 finished with value: 0.5342050065513503 and parameters: {'jump_penalty': 10.0}. Best is trial 0 with value: 0.534482902940135.\n",
      "[I 2025-03-24 09:43:33,469] Trial 3 finished with value: 0.5519870888459636 and parameters: {'jump_penalty': 31.622776601683793}. Best is trial 3 with value: 0.5519870888459636.\n",
      "[I 2025-03-24 09:44:12,410] Trial 4 finished with value: 0.5810899248886348 and parameters: {'jump_penalty': 3162.2776601683795}. Best is trial 4 with value: 0.5810899248886348.\n",
      "[I 2025-03-24 09:44:51,857] Trial 5 finished with value: 0.5348335150799167 and parameters: {'jump_penalty': 0.1}. Best is trial 4 with value: 0.5810899248886348.\n",
      "[I 2025-03-24 09:45:31,498] Trial 6 finished with value: 0.5348147969363868 and parameters: {'jump_penalty': 0.01}. Best is trial 4 with value: 0.5810899248886348.\n",
      "[I 2025-03-24 09:46:09,633] Trial 7 finished with value: 0.5810899248886348 and parameters: {'jump_penalty': 10000.0}. Best is trial 4 with value: 0.5810899248886348.\n",
      "[I 2025-03-24 09:46:48,240] Trial 8 finished with value: 0.5346514689377672 and parameters: {'jump_penalty': 100.0}. Best is trial 4 with value: 0.5810899248886348.\n",
      "[I 2025-03-24 09:47:27,299] Trial 9 finished with value: 0.5335052458303345 and parameters: {'jump_penalty': 3.1622776601683795}. Best is trial 4 with value: 0.5810899248886348.\n",
      "[I 2025-03-24 09:48:05,596] Trial 10 finished with value: 0.5810899248886348 and parameters: {'jump_penalty': 100000.0}. Best is trial 4 with value: 0.5810899248886348.\n",
      "[I 2025-03-24 09:48:43,831] Trial 11 finished with value: 0.5810899248886348 and parameters: {'jump_penalty': 316.22776601683796}. Best is trial 4 with value: 0.5810899248886348.\n",
      "[I 2025-03-24 09:49:22,866] Trial 12 finished with value: 0.5350125827520396 and parameters: {'jump_penalty': 0.03162277660168379}. Best is trial 4 with value: 0.5810899248886348.\n",
      "[I 2025-03-24 09:50:02,567] Trial 13 finished with value: 0.534482902940135 and parameters: {'jump_penalty': 0.001}. Best is trial 4 with value: 0.5810899248886348.\n",
      "[I 2025-03-24 09:50:41,193] Trial 14 finished with value: 0.5352860114357842 and parameters: {'jump_penalty': 0.31622776601683794}. Best is trial 4 with value: 0.5810899248886348.\n",
      "[I 2025-03-24 09:51:19,447] Trial 15 finished with value: 0.5810899248886348 and parameters: {'jump_penalty': 31622.776601683792}. Best is trial 4 with value: 0.5810899248886348.\n",
      "[I 2025-03-24 09:51:57,939] Trial 16 finished with value: 0.5810899248886348 and parameters: {'jump_penalty': 1000.0}. Best is trial 4 with value: 0.5810899248886348.\n"
     ]
    },
    {
     "name": "stdout",
     "output_type": "stream",
     "text": [
      "Best trial:\n",
      "  jump_penalty: 3162.2776601683795\n",
      "Best hyperparameters saved to '../../../hyper_parameter/best_jump/2013-2018_2states.json'.\n"
     ]
    }
   ],
   "source": [
    "import optuna\n",
    "import json\n",
    "import os\n",
    "from utils.metrics import balanced_accuracy\n",
    "from model.jump_module import JumpModule\n",
    "\n",
    "# Construct a grid for jump_penalty using logarithmic uniform spacing\n",
    "grid_values = np.logspace(-3, 5, 17).tolist()  # Generate values from 1e-3 to 1e5 in log-uniform spacing\n",
    "\n",
    "def objective(trial):\n",
    "    # Select a jump_penalty value from the pre-defined grid\n",
    "    jump_penalty = trial.suggest_categorical(\"jump_penalty\", grid_values)\n",
    "    \n",
    "    # Construct and train the model using the selected hyperparameter\n",
    "    jump = JumpModule(num_states, jump_penalty=jump_penalty, max_iter=100)\n",
    "    jump.fit(train_loader)\n",
    "    true_s_val, pred_s_val = jump.inference(val_loader)\n",
    "    val_bal_acc = balanced_accuracy(true_s_val.ravel(), pred_s_val.ravel(), n_classes=num_states)\n",
    "    \n",
    "    return val_bal_acc\n",
    "\n",
    "# Define the search space\n",
    "search_space = {\"jump_penalty\": grid_values}\n",
    "# Use GridSampler to perform grid search\n",
    "sampler = optuna.samplers.GridSampler(search_space)\n",
    "\n",
    "# Create an Optuna Study and set the direction to maximize Balanced Accuracy\n",
    "study = optuna.create_study(direction=\"maximize\", sampler=sampler)\n",
    "study.optimize(objective)\n",
    "\n",
    "# Output the best hyperparameters\n",
    "print(\"Best trial:\")\n",
    "best_trial = study.best_trial\n",
    "for key, value in best_trial.params.items():\n",
    "    print(f\"  {key}: {value}\")\n",
    "\n",
    "# Save the best hyperparameters to a file\n",
    "best_params = best_trial.params\n",
    "\n",
    "os.makedirs(f\"{project_path}/hyper_parameter/best_jump\", exist_ok=True)\n",
    "param_file_name = f\"{project_path}/hyper_parameter/best_jump/{save_path}.json\"\n",
    "with open(param_file_name, \"w\") as f:\n",
    "    json.dump(best_params, f, indent=4)\n",
    "\n",
    "print(f\"Best hyperparameters saved to '{param_file_name}'.\")\n"
   ]
  },
  {
   "cell_type": "code",
   "execution_count": 6,
   "id": "235f2119-91d0-49a8-a29e-9cdcd1f110ee",
   "metadata": {},
   "outputs": [
    {
     "name": "stdout",
     "output_type": "stream",
     "text": [
      "Loaded hyperparameters:\n",
      "{'jump_penalty': 3162.2776601683795}\n",
      "[Jump] Balanced Accuracy [train]: 0.5580\n",
      "[Jump] Balanced Accuracy [test]: 0.5333\n"
     ]
    }
   ],
   "source": [
    "# Load the best hyper-parameter\n",
    "with open(param_file_name, \"r\") as f:\n",
    "    loaded_params = json.load(f)\n",
    "\n",
    "print(\"Loaded hyperparameters:\")\n",
    "print(loaded_params)\n",
    "\n",
    "jump = JumpModule(num_states, jump_penalty=loaded_params['jump_penalty'], max_iter=100)\n",
    "jump.fit(train_loader)\n",
    "\n",
    "true_s_train_jump, pred_s_train_jump = jump.inference(train_loader)\n",
    "true_s_test_jump, pred_s_test_jump = jump.inference(test_loader)\n",
    "\n",
    "jump_bal_acc_train = balanced_accuracy(true_s_train_jump.ravel(), pred_s_train_jump.ravel(), n_classes = num_states)\n",
    "jump_bal_acc_test = balanced_accuracy(true_s_test_jump.ravel(), pred_s_test_jump.ravel(), n_classes = num_states)\n",
    "print(f\"[Jump] Balanced Accuracy [train]: {jump_bal_acc_train:.4f}\")\n",
    "print(f\"[Jump] Balanced Accuracy [test]: {jump_bal_acc_test:.4f}\")"
   ]
  },
  {
   "cell_type": "markdown",
   "id": "246454df-d90a-4396-a85a-510fe88d4e40",
   "metadata": {},
   "source": [
    "# Gaussian HMM"
   ]
  },
  {
   "cell_type": "code",
   "execution_count": 7,
   "id": "1adad1c1-39a4-4c5d-a9ca-a284f41690e3",
   "metadata": {},
   "outputs": [
    {
     "name": "stdout",
     "output_type": "stream",
     "text": [
      "[HMM] Balanced Accuracy [train]: 0.5071\n",
      "[HMM] Balanced Accuracy [test]: 0.5001\n"
     ]
    }
   ],
   "source": [
    "from model.hmm_module import GaussianHMMModule\n",
    "\n",
    "hmm_model = GaussianHMMModule(n_components=num_states, covariance_type='full', n_iter=100, random_state=42)\n",
    "hmm_model.fit(train_loader)\n",
    "true_s_train_hmm, pred_s_train_hmm = hmm_model.inference(train_loader)\n",
    "true_s_test_hmm, pred_s_test_hmm = hmm_model.inference(test_loader)\n",
    "\n",
    "# Evaluation\n",
    "hmm_bal_acc_train = balanced_accuracy(true_s_train_hmm.ravel(), pred_s_train_hmm.ravel(), n_classes = num_states)\n",
    "hmm_bal_acc_test = balanced_accuracy(true_s_test_hmm.ravel(), pred_s_test_hmm.ravel(), n_classes = num_states)\n",
    "print(f\"[HMM] Balanced Accuracy [train]: {hmm_bal_acc_train:.4f}\")\n",
    "print(f\"[HMM] Balanced Accuracy [test]: {hmm_bal_acc_test:.4f}\")"
   ]
  },
  {
   "cell_type": "markdown",
   "id": "ed01b890-42df-4fcb-9033-cec437c2f933",
   "metadata": {},
   "source": [
    "# KMeans++"
   ]
  },
  {
   "cell_type": "code",
   "execution_count": 8,
   "id": "60781c9d-5090-4af4-88cb-3399a21567cd",
   "metadata": {},
   "outputs": [
    {
     "name": "stdout",
     "output_type": "stream",
     "text": [
      "[KMeans] Balanced Accuracy [train]: 0.5355\n",
      "[KMeans] Balanced Accuracy [test]: 0.5196\n"
     ]
    }
   ],
   "source": [
    "from model.kmeans_module import KMeansModule\n",
    "\n",
    "kmeans = KMeansModule(n_clusters=num_states, n_init=10, max_iter=300)\n",
    "kmeans.fit(train_loader)\n",
    "\n",
    "true_s_train_kmeans, pred_s_train_kmeans = kmeans.inference(train_loader)\n",
    "true_s_test_kmeans, pred_s_test_kmeans = kmeans.inference(test_loader)\n",
    "\n",
    "kmeans_bal_acc_train = balanced_accuracy(true_s_train_kmeans.ravel(), pred_s_train_kmeans.ravel(), n_classes = num_states)\n",
    "kmeans_bal_acc_test = balanced_accuracy(true_s_test_kmeans.ravel(), pred_s_test_kmeans.ravel(), n_classes = num_states)\n",
    "print(f\"[KMeans] Balanced Accuracy [train]: {kmeans_bal_acc_train:.4f}\")\n",
    "print(f\"[KMeans] Balanced Accuracy [test]: {kmeans_bal_acc_test:.4f}\")"
   ]
  },
  {
   "cell_type": "code",
   "execution_count": null,
   "id": "d6cde98c-e3bb-45ba-870b-8862247ccf45",
   "metadata": {},
   "outputs": [],
   "source": []
  },
  {
   "cell_type": "code",
   "execution_count": null,
   "id": "da495233-31d3-4127-8ae4-49fbc4138c4b",
   "metadata": {},
   "outputs": [],
   "source": []
  }
 ],
 "metadata": {
  "kernelspec": {
   "display_name": "Python 3 (ipykernel)",
   "language": "python",
   "name": "python3"
  },
  "language_info": {
   "codemirror_mode": {
    "name": "ipython",
    "version": 3
   },
   "file_extension": ".py",
   "mimetype": "text/x-python",
   "name": "python",
   "nbconvert_exporter": "python",
   "pygments_lexer": "ipython3",
   "version": "3.8.10"
  }
 },
 "nbformat": 4,
 "nbformat_minor": 5
}
